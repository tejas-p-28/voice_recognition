{
  "nbformat": 4,
  "nbformat_minor": 0,
  "metadata": {
    "colab": {
      "provenance": []
    },
    "kernelspec": {
      "name": "python3",
      "display_name": "Python 3"
    },
    "language_info": {
      "name": "python"
    }
  },
  "cells": [
    {
      "cell_type": "code",
      "source": [
        "!pip install librosa"
      ],
      "metadata": {
        "colab": {
          "base_uri": "https://localhost:8080/"
        },
        "id": "Z7WsoeiuVX9I",
        "outputId": "870a0e75-24aa-42e5-bdf7-ec46bba797c7"
      },
      "execution_count": null,
      "outputs": [
        {
          "output_type": "stream",
          "name": "stdout",
          "text": [
            "Requirement already satisfied: librosa in /usr/local/lib/python3.10/dist-packages (0.10.2.post1)\n",
            "Requirement already satisfied: audioread>=2.1.9 in /usr/local/lib/python3.10/dist-packages (from librosa) (3.0.1)\n",
            "Requirement already satisfied: numpy!=1.22.0,!=1.22.1,!=1.22.2,>=1.20.3 in /usr/local/lib/python3.10/dist-packages (from librosa) (1.26.4)\n",
            "Requirement already satisfied: scipy>=1.2.0 in /usr/local/lib/python3.10/dist-packages (from librosa) (1.13.1)\n",
            "Requirement already satisfied: scikit-learn>=0.20.0 in /usr/local/lib/python3.10/dist-packages (from librosa) (1.5.2)\n",
            "Requirement already satisfied: joblib>=0.14 in /usr/local/lib/python3.10/dist-packages (from librosa) (1.4.2)\n",
            "Requirement already satisfied: decorator>=4.3.0 in /usr/local/lib/python3.10/dist-packages (from librosa) (4.4.2)\n",
            "Requirement already satisfied: numba>=0.51.0 in /usr/local/lib/python3.10/dist-packages (from librosa) (0.60.0)\n",
            "Requirement already satisfied: soundfile>=0.12.1 in /usr/local/lib/python3.10/dist-packages (from librosa) (0.12.1)\n",
            "Requirement already satisfied: pooch>=1.1 in /usr/local/lib/python3.10/dist-packages (from librosa) (1.8.2)\n",
            "Requirement already satisfied: soxr>=0.3.2 in /usr/local/lib/python3.10/dist-packages (from librosa) (0.5.0.post1)\n",
            "Requirement already satisfied: typing-extensions>=4.1.1 in /usr/local/lib/python3.10/dist-packages (from librosa) (4.12.2)\n",
            "Requirement already satisfied: lazy-loader>=0.1 in /usr/local/lib/python3.10/dist-packages (from librosa) (0.4)\n",
            "Requirement already satisfied: msgpack>=1.0 in /usr/local/lib/python3.10/dist-packages (from librosa) (1.1.0)\n",
            "Requirement already satisfied: packaging in /usr/local/lib/python3.10/dist-packages (from lazy-loader>=0.1->librosa) (24.2)\n",
            "Requirement already satisfied: llvmlite<0.44,>=0.43.0dev0 in /usr/local/lib/python3.10/dist-packages (from numba>=0.51.0->librosa) (0.43.0)\n",
            "Requirement already satisfied: platformdirs>=2.5.0 in /usr/local/lib/python3.10/dist-packages (from pooch>=1.1->librosa) (4.3.6)\n",
            "Requirement already satisfied: requests>=2.19.0 in /usr/local/lib/python3.10/dist-packages (from pooch>=1.1->librosa) (2.32.3)\n",
            "Requirement already satisfied: threadpoolctl>=3.1.0 in /usr/local/lib/python3.10/dist-packages (from scikit-learn>=0.20.0->librosa) (3.5.0)\n",
            "Requirement already satisfied: cffi>=1.0 in /usr/local/lib/python3.10/dist-packages (from soundfile>=0.12.1->librosa) (1.17.1)\n",
            "Requirement already satisfied: pycparser in /usr/local/lib/python3.10/dist-packages (from cffi>=1.0->soundfile>=0.12.1->librosa) (2.22)\n",
            "Requirement already satisfied: charset-normalizer<4,>=2 in /usr/local/lib/python3.10/dist-packages (from requests>=2.19.0->pooch>=1.1->librosa) (3.4.0)\n",
            "Requirement already satisfied: idna<4,>=2.5 in /usr/local/lib/python3.10/dist-packages (from requests>=2.19.0->pooch>=1.1->librosa) (3.10)\n",
            "Requirement already satisfied: urllib3<3,>=1.21.1 in /usr/local/lib/python3.10/dist-packages (from requests>=2.19.0->pooch>=1.1->librosa) (2.2.3)\n",
            "Requirement already satisfied: certifi>=2017.4.17 in /usr/local/lib/python3.10/dist-packages (from requests>=2.19.0->pooch>=1.1->librosa) (2024.8.30)\n"
          ]
        }
      ]
    },
    {
      "cell_type": "code",
      "execution_count": null,
      "metadata": {
        "id": "jlQHf0lmUCGf"
      },
      "outputs": [],
      "source": [
        "import numpy as np\n",
        "import pandas as pd\n",
        "import librosa\n",
        "import matplotlib.pyplot as plt\n",
        "import seaborn as sns\n",
        "import librosa.display\n",
        "import os"
      ]
    },
    {
      "cell_type": "code",
      "source": [
        "audio_path = '/content/drive/MyDrive/Eternity Voice /Train'\n",
        "audio_list = os.listdir(audio_path)\n",
        "mfcc_vectors = []"
      ],
      "metadata": {
        "id": "cNEOixKKVcFg"
      },
      "execution_count": null,
      "outputs": []
    },
    {
      "cell_type": "code",
      "source": [
        "for i, file_name in enumerate(audio_list[:5]):\n",
        "    if file_name.endswith('.opus'):\n",
        "        file_path = os.path.join(audio_path, file_name)\n",
        "        y, sr = librosa.load(file_path, sr = None)\n",
        "        mfcc = librosa.feature.mfcc(y=y, sr=sr, n_mfcc=13)\n",
        "        mfcc_vector = mfcc.mean(axis=1)\n",
        "        mfcc_vectors.append(mfcc_vector)\n",
        "        print(f\"MFCC Feature Vector (Mean) for {file_name}:\")\n",
        "        print(mfcc_vector)"
      ],
      "metadata": {
        "colab": {
          "base_uri": "https://localhost:8080/"
        },
        "id": "p0TtbTiYdSGq",
        "outputId": "f9c5577f-1b45-45cc-b349-8d0981312737"
      },
      "execution_count": null,
      "outputs": [
        {
          "output_type": "stream",
          "name": "stdout",
          "text": [
            "MFCC Feature Vector (Mean) for 2.opus:\n",
            "[-3.6679977e+02  7.9835617e+01 -3.8297021e-01  1.9097847e+01\n",
            " -2.2238944e+00  1.2960407e+01  4.0203781e+00 -1.0416458e+01\n",
            "  1.9068917e+00  1.0515576e-01  1.6535982e-01 -6.4711704e+00\n",
            " -4.1024065e+00]\n",
            "MFCC Feature Vector (Mean) for 3.opus:\n",
            "[-6.0669818e+02  6.2994068e+01  2.1074339e+01  2.7601984e+01\n",
            " -1.3356656e+00 -2.1920620e-01  2.5642984e+00 -1.1907376e+01\n",
            " -5.2310753e+00 -4.6895453e-01 -7.3931408e+00 -1.4088199e+00\n",
            " -2.8004642e+00]\n"
          ]
        },
        {
          "output_type": "stream",
          "name": "stderr",
          "text": [
            "<ipython-input-33-8e582fadd931>:4: UserWarning: PySoundFile failed. Trying audioread instead.\n",
            "  y, sr = librosa.load(file_path, sr = None)\n"
          ]
        },
        {
          "output_type": "stream",
          "name": "stdout",
          "text": [
            "MFCC Feature Vector (Mean) for 1.opus:\n",
            "[-5.83819336e+02  9.18946915e+01  1.19426775e+01  2.32776661e+01\n",
            "  2.04243793e+01  9.05306053e+00  1.09347258e+01  3.18381500e+00\n",
            "  4.31831503e+00  2.95994711e+00  4.25779611e-01  8.55050564e+00\n",
            "  2.96720177e-01]\n",
            "MFCC Feature Vector (Mean) for 4.opus:\n",
            "[-3.9194232e+02  1.1976487e+02 -3.9230804e+00  3.1536886e+01\n",
            "  1.7913843e+00 -8.1143246e+00 -2.4800370e+00 -9.3594465e+00\n",
            " -1.0463846e+01  3.8831598e-01 -6.3476968e+00  1.1852945e+00\n",
            " -8.5286732e+00]\n"
          ]
        }
      ]
    },
    {
      "cell_type": "code",
      "source": [
        "from sklearn.preprocessing import MinMaxScaler\n",
        "mms = MinMaxScaler()"
      ],
      "metadata": {
        "id": "QcELeHmeVjOo"
      },
      "execution_count": null,
      "outputs": []
    },
    {
      "cell_type": "code",
      "source": [
        "scaled_vectors = mms.fit_transform(mfcc_vectors)"
      ],
      "metadata": {
        "id": "KjbZvNgWWt5-"
      },
      "execution_count": null,
      "outputs": []
    },
    {
      "cell_type": "code",
      "source": [
        "scaled_vectors"
      ],
      "metadata": {
        "colab": {
          "base_uri": "https://localhost:8080/"
        },
        "id": "ujWpT2v0jz2-",
        "outputId": "2cb6943e-f990-4ed8-bf84-0266d999cafc"
      },
      "execution_count": null,
      "outputs": [
        {
          "output_type": "execute_result",
          "data": {
            "text/plain": [
              "array([[1.        , 0.29665864, 0.14161903, 0.        , 0.        ,\n",
              "        1.        , 0.48457175, 0.09879393, 0.83686937, 0.16743271,\n",
              "        0.96669364, 0.        , 0.50153761],\n",
              "       [0.        , 0.        , 1.        , 0.6836651 , 0.03921839,\n",
              "        0.37462486, 0.37602867, 0.        , 0.35399228, 0.        ,\n",
              "        0.        , 0.33700304, 0.64905991],\n",
              "       [0.09536889, 0.50907548, 0.63469583, 0.33602427, 1.        ,\n",
              "        0.81459566, 1.        , 1.        , 1.        , 1.        ,\n",
              "        1.        , 1.        , 1.        ],\n",
              "       [0.89519502, 1.        , 0.        , 1.        , 0.17728851,\n",
              "        0.        , 0.        , 0.16883556, 0.        , 0.25001315,\n",
              "        0.13370695, 0.50969445, 0.        ]])"
            ]
          },
          "metadata": {},
          "execution_count": 42
        }
      ]
    },
    {
      "cell_type": "code",
      "source": [],
      "metadata": {
        "id": "YUZ85Glxj2Ty"
      },
      "execution_count": null,
      "outputs": []
    }
  ]
}